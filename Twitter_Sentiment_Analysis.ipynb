{
  "nbformat": 4,
  "nbformat_minor": 0,
  "metadata": {
    "colab": {
      "name": "HenryWorkingsBTCNLP.ipynb",
      "provenance": [],
      "collapsed_sections": []
    },
    "kernelspec": {
      "name": "python3",
      "display_name": "Python 3"
    },
    "language_info": {
      "name": "python"
    }
  },
  "cells": [
    {
      "cell_type": "markdown",
      "metadata": {
        "id": "onriQ600Hx76"
      },
      "source": [
        "#Setup"
      ]
    },
    {
      "cell_type": "code",
      "metadata": {
        "id": "ceaHq1menk87"
      },
      "source": [
        "!pip install -q pyspark\n",
        "!pip install -q vaderSentiment\n",
        "!pip install -q tweet-preprocessor\n",
        "!pip install -q git+https://github.com/tweepy/tweepy.git #Updated version allows usage of API.search_tweets attribute\n",
        "!pip install -q yfinance"
      ],
      "execution_count": null,
      "outputs": []
    },
    {
      "cell_type": "code",
      "metadata": {
        "id": "0hEIIT8Gnrxb",
        "colab": {
          "base_uri": "https://localhost:8080/"
        },
        "outputId": "8e6bc8fa-28eb-4078-a66d-d90e85d5862b"
      },
      "source": [
        "import pyspark as spark \n",
        "from pyspark.sql.types import *\n",
        "from pyspark.sql import SQLContext\n",
        "from pyspark.sql.functions import col, udf, monotonically_increasing_id, unix_timestamp, round, avg\n",
        "import yfinance as yf\n",
        "import pandas as pd\n",
        "import pandas_datareader.data as web\n",
        "import warnings\n",
        "warnings.filterwarnings('ignore')\n",
        "import re\n",
        "import tweepy\n",
        "from tweepy import OAuthHandler\n",
        "import pandas as pd\n",
        "import time\n",
        "import json\n",
        "import csv\n",
        "import preprocessor as p #cleaning each tweet using tweet-preprocessor like removing hashtags,urls,emojis....\n",
        "from vaderSentiment.vaderSentiment import SentimentIntensityAnalyzer\n",
        "from datetime import datetime \n",
        "from dateutil import parser\n",
        "from google.colab import drive \n",
        "sc= spark.SparkContext()\n",
        "sql= spark.SQLContext(sc)\n",
        "import numpy as np\n",
        "from datetime import date, timedelta\n",
        "drive.mount('/content/gdrive')"
      ],
      "execution_count": null,
      "outputs": [
        {
          "output_type": "stream",
          "name": "stdout",
          "text": [
            "Drive already mounted at /content/gdrive; to attempt to forcibly remount, call drive.mount(\"/content/gdrive\", force_remount=True).\n"
          ]
        }
      ]
    },
    {
      "cell_type": "markdown",
      "metadata": {
        "id": "S5oR5MywsFlQ"
      },
      "source": [
        "#Functions"
      ]
    },
    {
      "cell_type": "code",
      "metadata": {
        "id": "hutQIV90nw3M"
      },
      "source": [
        "access_token=\"\"\n",
        "access_token_secret=\"\"\n",
        "consumer_key=\"\n",
        "consumer_secret=\"\"\n",
        "API_Data = access_token, access_token_secret, consumer_key, consumer_secret\n",
        "\n",
        "def get_tweets_to_csv(API_Data, count, text_query, FileName):\n",
        "    auth = tweepy.OAuthHandler(API_Data[2], API_Data[3])\n",
        "    auth.set_access_token(API_Data[0], API_Data[1])\n",
        "    api = tweepy.API(auth, wait_on_rate_limit=True)\n",
        "    df_query_based_tweets = pd.DataFrame()\n",
        "    try:\n",
        "        tweets = tweepy.Cursor(api.search_tweets,q=text_query).items(count)\n",
        "        for tweet in tweets:\n",
        "            df_query_based_tweets = df_query_based_tweets.append(\n",
        "                              {'Created at' : tweet._json['created_at'],\n",
        "                                           'User ID': tweet._json['id'],\n",
        "                                  'User Name': tweet.user._json['name'],\n",
        "                                            'Text': tweet._json['text'],\n",
        "                         'Description': tweet.user._json['description'],\n",
        "                               'Location': tweet.user._json['location'],\n",
        "                 'Followers Count': tweet.user._json['followers_count'],\n",
        "                     'Friends Count': tweet.user._json['friends_count'],\n",
        "                   'Statuses Count': tweet.user._json['statuses_count'],\n",
        "             'Profile Image Url': tweet.user._json['profile_image_url'],}, ignore_index=True)\n",
        "    except BaseException as e:\n",
        "        print('failed on_status,',str(e))\n",
        "        time.sleep(3)\n",
        "    df_query_based_tweets.to_csv(FileName+'.csv', index=False)\n",
        "    return\n",
        "\n",
        "def pull_csv(FileName):\n",
        "    return(pd.read_csv(FileName+'.csv'))\n",
        "\n",
        "def function_udf(input_str):\n",
        "  \"\"\"Takes string inputs and outputs cleaned strings - runs over tweets\"\"\"\n",
        "  input_str = re.sub(r'RT', '', input_str)\n",
        "  p.set_options(p.OPT.URL, p.OPT.EMOJI,p.OPT.MENTION)\n",
        "  input_str = p.clean(input_str)\n",
        "  return ' '.join(re.sub(\"(@[A-Za-z0-9]+)|([^0-9A-Za-z \\t])|(\\w+:\\/\\/\\S+)\", \" \", input_str).split())\n",
        "\n",
        "def senti_score_udf(sentence):\n",
        "  \"\"\"Takes tweet string and performs sentiment analysis. Makes 3 new columns \n",
        "  positive, negative and neutral in range 0-1.\"\"\"\n",
        "  snt = analyser.polarity_scores(sentence)\n",
        "  return ([snt['neg'], snt['neu'], snt['pos'], snt['compound']])\n",
        "\n",
        "\n",
        "def Tw_Time_format(stri):  #manipulating and casting the strings(DateTime) of tweets dataframe to timestamps\n",
        "  \"\"\"Takes the time column and outputs datetime-readable time signature\"\"\"\n",
        "  datetime_object = datetime.strptime(stri, '%a %b %d %I:%M:%S %z %Y')\n",
        "  #dic = {'Dec':'11','Oct':'10'}\n",
        "  #ans = ''\n",
        "  #ans += stri[-4:]+'-'+ dic[stri[4:7]]+'-'+stri[8:19]\n",
        "  return str(datetime_object)\n",
        "\n",
        "def Btc_Time_format(input_str): #manipulating and casting the strings(DateTime) of BTC dataframe to timestamps\n",
        "    input_str = re.sub(r'/17','', input_str)\n",
        "    input_str = '2017-'+ input_str\n",
        "    input_str = re.sub(r'/', '-', input_str)\n",
        "    input_str += ':00'\n",
        "    return input_str[:10]+\"\"+input_str[10:]\n",
        "\n",
        "def create_spark_dataframe(file_name):\n",
        "   \"\"\"\n",
        "   will return the spark dataframe input pandas dataframe - \n",
        "   https://stackoverflow.com/questions/39862211/typeerror-when-converting-pandas-to-spark/40344485\n",
        "   \"\"\"\n",
        "   pandas_data_frame = pd.read_csv(file_name, converters= {\"PRODUCT\": str})\n",
        "   for col in pandas_data_frame.columns:\n",
        "    if ((pandas_data_frame[col].dtypes != np.int64) & (pandas_data_frame[col].dtypes != np.float64)):\n",
        "      pandas_data_frame[col] = pandas_data_frame[col].fillna('')\n",
        "\n",
        "   spark_data_frame = sql.createDataFrame(pandas_data_frame)\n",
        "   return spark_data_frame\n"
      ],
      "execution_count": null,
      "outputs": []
    },
    {
      "cell_type": "markdown",
      "metadata": {
        "id": "F-sOShOetvgJ"
      },
      "source": [
        "#Get Data"
      ]
    },
    {
      "cell_type": "code",
      "metadata": {
        "id": "NqlRSL92nvB0",
        "colab": {
          "base_uri": "https://localhost:8080/"
        },
        "outputId": "6c50b363-4845-4770-a85d-7fd013f91219"
      },
      "source": [
        "#Previous:\n",
        "#btc= pd.read_csv(\"gdrive/My Drive/BitCoinPrice.csv\", error_bad_lines=False, engine='python', header= None)\n",
        "#twitter=pd.read_csv('gdrive/My Drive/tweetsfinal2.csv',error_bad_lines=False,engine = 'python',header = None)\n",
        "\n",
        "#New:\n",
        "tweet_count = 10000\n",
        "FileName = \"TweetsBtc\"\n",
        "get_tweets_to_csv(API_Data, tweet_count, ['BTC','Bitcoin', 'bitcoin'], FileName)"
      ],
      "execution_count": null,
      "outputs": [
        {
          "output_type": "stream",
          "name": "stderr",
          "text": [
            "Rate limit reached. Sleeping for: 838\n",
            "Rate limit reached. Sleeping for: 833\n",
            "Rate limit reached. Sleeping for: 823\n"
          ]
        },
        {
          "output_type": "stream",
          "name": "stdout",
          "text": [
            "failed on_status, \n"
          ]
        }
      ]
    },
    {
      "cell_type": "markdown",
      "metadata": {
        "id": "YhL_x4s8tY0I"
      },
      "source": [
        "#Tweet Data processing"
      ]
    },
    {
      "cell_type": "code",
      "metadata": {
        "id": "_tNNtFrgoBKM"
      },
      "source": [
        "FullDataTwitter = create_spark_dataframe((FileName+\".csv\"))\n",
        "\n",
        "FullDataTwitter.select(monotonically_increasing_id().alias(\"rowId\"), \"*\")\n",
        "FullDataTwitter= FullDataTwitter.withColumnRenamed('0', 'DateTime')#Setting column names to the twitter dataset\n",
        "FullDataTwitter=FullDataTwitter.withColumnRenamed('1', 'Tweet')\n",
        "\n",
        "Tw_samp= FullDataTwitter"
      ],
      "execution_count": null,
      "outputs": []
    },
    {
      "cell_type": "markdown",
      "metadata": {
        "id": "AnJRbgg-sm6M"
      },
      "source": [
        "##Cleaning Tweet Data"
      ]
    },
    {
      "cell_type": "code",
      "metadata": {
        "id": "cxj9UoaEoEd_"
      },
      "source": [
        "func_udf = udf(function_udf, StringType())\n",
        "CleanDF = Tw_samp.withColumn('CleanedTweets', func_udf(Tw_samp['text']))"
      ],
      "execution_count": null,
      "outputs": []
    },
    {
      "cell_type": "markdown",
      "metadata": {
        "id": "G0UxGi05s9MN"
      },
      "source": [
        "##Sentiment Analysis"
      ]
    },
    {
      "cell_type": "code",
      "metadata": {
        "id": "YFbNcZG8oKwT"
      },
      "source": [
        "analyser = SentimentIntensityAnalyzer()\n",
        "func_udf2 = udf(senti_score_udf, ArrayType(FloatType()))\n",
        "CleanDF = CleanDF.withColumn('p_neg', func_udf2(CleanDF['CleanedTweets'])[0])\n",
        "CleanDF = CleanDF.withColumn('p_neu', func_udf2(CleanDF['CleanedTweets'])[1])\n",
        "CleanDF = CleanDF.withColumn('p_pos', func_udf2(CleanDF['CleanedTweets'])[2])\n",
        "CleanDF = CleanDF.withColumn('p_comp', func_udf2(CleanDF['CleanedTweets'])[3])"
      ],
      "execution_count": null,
      "outputs": []
    },
    {
      "cell_type": "markdown",
      "metadata": {
        "id": "BSXSCMUEtFKy"
      },
      "source": [
        "##Cleaning Time Column"
      ]
    },
    {
      "cell_type": "code",
      "metadata": {
        "id": "zgrRaZC8w-FZ"
      },
      "source": [
        "func_udf3 = udf(Tw_Time_format,StringType())\n",
        "CleanDF = CleanDF.withColumn('DateTime_c', func_udf3(CleanDF['Created at']))\n",
        "CleanDF = CleanDF.withColumn(\"DateTime_casted\",CleanDF['DateTime_c'].cast(TimestampType()))\n",
        "\n",
        "FinalTw = CleanDF.selectExpr(\"DateTime_casted as Date_Time\", \"CleanedTweets as Cleaned_Tweets\", \"p_neg\",\"p_neu\",\"p_pos\",\"p_comp\")"
      ],
      "execution_count": null,
      "outputs": []
    },
    {
      "cell_type": "markdown",
      "metadata": {
        "id": "ac7EaWsnxjxw"
      },
      "source": [
        "#Asset Processing"
      ]
    },
    {
      "cell_type": "code",
      "metadata": {
        "colab": {
          "base_uri": "https://localhost:8080/"
        },
        "id": "4_HQoeEWFD1y",
        "outputId": "71989247-8d19-4702-e95c-bac136a6a302"
      },
      "source": [
        "\n",
        "data = yf.download('BTC-USD', start=\"2021-01-12\")['Adj Close'][0]\n",
        "pandasDF = FinalTw.toPandas()\n",
        "asset_price = []\n",
        "for i in range(len(pandasDF)):\n",
        "  asset_price.append(yf.download('BTC-USD', start=pandasDF['Date_Time'][i])['Adj Close'][0])"
      ],
      "execution_count": null,
      "outputs": [
        {
          "output_type": "stream",
          "name": "stdout",
          "text": [
            "\r[*********************100%***********************]  1 of 1 completed\n"
          ]
        }
      ]
    },
    {
      "cell_type": "markdown",
      "metadata": {
        "id": "z1Kg1Z0UHlcC"
      },
      "source": [
        "#Completed"
      ]
    },
    {
      "cell_type": "code",
      "metadata": {
        "colab": {
          "base_uri": "https://localhost:8080/",
          "height": 424
        },
        "id": "OqAiJScJxFFD",
        "outputId": "f72f42f5-f145-440a-94ab-57c7f36a7481"
      },
      "source": [
        "pandasDF"
      ],
      "execution_count": null,
      "outputs": [
        {
          "output_type": "execute_result",
          "data": {
            "text/html": [
              "<div>\n",
              "<style scoped>\n",
              "    .dataframe tbody tr th:only-of-type {\n",
              "        vertical-align: middle;\n",
              "    }\n",
              "\n",
              "    .dataframe tbody tr th {\n",
              "        vertical-align: top;\n",
              "    }\n",
              "\n",
              "    .dataframe thead th {\n",
              "        text-align: right;\n",
              "    }\n",
              "</style>\n",
              "<table border=\"1\" class=\"dataframe\">\n",
              "  <thead>\n",
              "    <tr style=\"text-align: right;\">\n",
              "      <th></th>\n",
              "      <th>Date_Time</th>\n",
              "      <th>Cleaned_Tweets</th>\n",
              "      <th>p_neg</th>\n",
              "      <th>p_neu</th>\n",
              "      <th>p_pos</th>\n",
              "      <th>p_comp</th>\n",
              "      <th>Asset_Price</th>\n",
              "    </tr>\n",
              "  </thead>\n",
              "  <tbody>\n",
              "    <tr>\n",
              "      <th>0</th>\n",
              "      <td>2021-11-01 17:37:03</td>\n",
              "      <td>Bitcoin BTC Do you see it</td>\n",
              "      <td>0.000</td>\n",
              "      <td>1.000</td>\n",
              "      <td>0.000</td>\n",
              "      <td>0.0000</td>\n",
              "      <td>61004.40625</td>\n",
              "    </tr>\n",
              "    <tr>\n",
              "      <th>1</th>\n",
              "      <td>2021-11-01 17:37:03</td>\n",
              "      <td>This is Revolotto RVL Revolutionary Lottery Co...</td>\n",
              "      <td>0.000</td>\n",
              "      <td>0.891</td>\n",
              "      <td>0.109</td>\n",
              "      <td>0.2960</td>\n",
              "      <td>61004.40625</td>\n",
              "    </tr>\n",
              "    <tr>\n",
              "      <th>2</th>\n",
              "      <td>2021-11-01 17:37:03</td>\n",
              "      <td>Bitcoin fails worst case scenario monthly clos...</td>\n",
              "      <td>0.347</td>\n",
              "      <td>0.653</td>\n",
              "      <td>0.000</td>\n",
              "      <td>-0.7845</td>\n",
              "      <td>61004.40625</td>\n",
              "    </tr>\n",
              "    <tr>\n",
              "      <th>3</th>\n",
              "      <td>2021-11-01 17:37:02</td>\n",
              "      <td>Current Bitcoin Price is 58474 BTC Crypto</td>\n",
              "      <td>0.000</td>\n",
              "      <td>1.000</td>\n",
              "      <td>0.000</td>\n",
              "      <td>0.0000</td>\n",
              "      <td>61004.40625</td>\n",
              "    </tr>\n",
              "    <tr>\n",
              "      <th>4</th>\n",
              "      <td>2021-11-01 17:37:00</td>\n",
              "      <td>Ethereum hits 3 1 2 year high against Bitcoin ...</td>\n",
              "      <td>0.000</td>\n",
              "      <td>1.000</td>\n",
              "      <td>0.000</td>\n",
              "      <td>0.0000</td>\n",
              "      <td>61004.40625</td>\n",
              "    </tr>\n",
              "    <tr>\n",
              "      <th>...</th>\n",
              "      <td>...</td>\n",
              "      <td>...</td>\n",
              "      <td>...</td>\n",
              "      <td>...</td>\n",
              "      <td>...</td>\n",
              "      <td>...</td>\n",
              "      <td>...</td>\n",
              "    </tr>\n",
              "    <tr>\n",
              "      <th>95</th>\n",
              "      <td>2021-11-01 17:35:33</td>\n",
              "      <td>bitcoin btc crypto ico eth altcoin smash smash...</td>\n",
              "      <td>0.000</td>\n",
              "      <td>1.000</td>\n",
              "      <td>0.000</td>\n",
              "      <td>0.0000</td>\n",
              "      <td>61004.40625</td>\n",
              "    </tr>\n",
              "    <tr>\n",
              "      <th>96</th>\n",
              "      <td>2021-11-01 17:35:32</td>\n",
              "      <td>PAICIPATE IN BITBULL TRADING COMPETITION AND A...</td>\n",
              "      <td>0.000</td>\n",
              "      <td>0.600</td>\n",
              "      <td>0.400</td>\n",
              "      <td>0.8647</td>\n",
              "      <td>61004.40625</td>\n",
              "    </tr>\n",
              "    <tr>\n",
              "      <th>97</th>\n",
              "      <td>2021-11-01 17:35:30</td>\n",
              "      <td>This is Revolotto RVL Revolutionary Lottery Co...</td>\n",
              "      <td>0.000</td>\n",
              "      <td>0.891</td>\n",
              "      <td>0.109</td>\n",
              "      <td>0.2960</td>\n",
              "      <td>61004.40625</td>\n",
              "    </tr>\n",
              "    <tr>\n",
              "      <th>98</th>\n",
              "      <td>2021-11-01 17:35:29</td>\n",
              "      <td>Imagine an AI that learns to code and writes a...</td>\n",
              "      <td>0.000</td>\n",
              "      <td>0.856</td>\n",
              "      <td>0.144</td>\n",
              "      <td>0.4939</td>\n",
              "      <td>61004.40625</td>\n",
              "    </tr>\n",
              "    <tr>\n",
              "      <th>99</th>\n",
              "      <td>2021-11-01 17:35:28</td>\n",
              "      <td>Bitcoin BTC Do you see it</td>\n",
              "      <td>0.000</td>\n",
              "      <td>1.000</td>\n",
              "      <td>0.000</td>\n",
              "      <td>0.0000</td>\n",
              "      <td>61004.40625</td>\n",
              "    </tr>\n",
              "  </tbody>\n",
              "</table>\n",
              "<p>100 rows × 7 columns</p>\n",
              "</div>"
            ],
            "text/plain": [
              "             Date_Time  ...  Asset_Price\n",
              "0  2021-11-01 17:37:03  ...  61004.40625\n",
              "1  2021-11-01 17:37:03  ...  61004.40625\n",
              "2  2021-11-01 17:37:03  ...  61004.40625\n",
              "3  2021-11-01 17:37:02  ...  61004.40625\n",
              "4  2021-11-01 17:37:00  ...  61004.40625\n",
              "..                 ...  ...          ...\n",
              "95 2021-11-01 17:35:33  ...  61004.40625\n",
              "96 2021-11-01 17:35:32  ...  61004.40625\n",
              "97 2021-11-01 17:35:30  ...  61004.40625\n",
              "98 2021-11-01 17:35:29  ...  61004.40625\n",
              "99 2021-11-01 17:35:28  ...  61004.40625\n",
              "\n",
              "[100 rows x 7 columns]"
            ]
          },
          "metadata": {},
          "execution_count": 33
        }
      ]
    }
  ]
}